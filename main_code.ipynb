{
  "nbformat": 4,
  "nbformat_minor": 0,
  "metadata": {
    "colab": {
      "provenance": [],
      "authorship_tag": "ABX9TyPp72JaUtQDwzg544b7MaC9",
      "include_colab_link": true
    },
    "kernelspec": {
      "name": "python3",
      "display_name": "Python 3"
    },
    "language_info": {
      "name": "python"
    }
  },
  "cells": [
    {
      "cell_type": "markdown",
      "metadata": {
        "id": "view-in-github",
        "colab_type": "text"
      },
      "source": [
        "<a href=\"https://colab.research.google.com/github/jayantjain05/chat-bot/blob/main/main_code.ipynb\" target=\"_parent\"><img src=\"https://colab.research.google.com/assets/colab-badge.svg\" alt=\"Open In Colab\"/></a>"
      ]
    },
    {
      "cell_type": "code",
      "execution_count": 3,
      "metadata": {
        "id": "Yu0xlXmH0THH"
      },
      "outputs": [],
      "source": [
        "import random\n",
        "import numpy as np\n",
        "import tensorflow as tf\n",
        "from tensorflow.keras.models import Sequential\n",
        "from tensorflow.keras.optimizers import RMSprop\n",
        "from tensorflow.keras.layers import Activation, Dense, LSTM"
      ]
    },
    {
      "cell_type": "markdown",
      "source": [
        "imorting all the necessary liabrary\n"
      ],
      "metadata": {
        "id": "HDgP6_n32hqG"
      }
    },
    {
      "cell_type": "code",
      "source": [
        "filepath = tf.keras.utils.get_file('shakespeare.txt',\n",
        "        'https://storage.googleapis.com/download.tensorflow.org/data/shakespeare.txt')\n",
        "text = open(filepath, 'rb').read().decode(encoding='utf-8').lower()\n",
        "#rb mean read binary"
      ],
      "metadata": {
        "id": "77CU40xl1VCU"
      },
      "execution_count": 5,
      "outputs": []
    },
    {
      "cell_type": "code",
      "source": [],
      "metadata": {
        "id": "lcVi79ej24xT"
      },
      "execution_count": null,
      "outputs": []
    },
    {
      "cell_type": "markdown",
      "source": [
        "importing data from keras to train\n"
      ],
      "metadata": {
        "id": "8yIzdU3M2guR"
      }
    },
    {
      "cell_type": "markdown",
      "source": [
        "selecting one part of text so that fast train\n"
      ],
      "metadata": {
        "id": "b7AvWx3K3X66"
      }
    },
    {
      "cell_type": "code",
      "source": [
        "text = text[300000:800000]"
      ],
      "metadata": {
        "id": "V2casVXc3Cq9"
      },
      "execution_count": 6,
      "outputs": []
    },
    {
      "cell_type": "markdown",
      "source": [
        "conversion of text into number\n"
      ],
      "metadata": {
        "id": "5-vlNRHp30ge"
      }
    },
    {
      "cell_type": "code",
      "source": [
        "characters = sorted(set(text))   #filter out unique character to create a set of text in text file\n",
        "\n",
        "char_to_index = dict((c, i) for i, c in enumerate(characters))     # creating dictionary index as value assining to character\n",
        "index_to_char = dict((i, c) for i, c in enumerate(characters))"
      ],
      "metadata": {
        "id": "cha49_KY34SQ"
      },
      "execution_count": 7,
      "outputs": []
    },
    {
      "cell_type": "markdown",
      "source": [
        "\n",
        "\n",
        "> reading words in length to make a sentence\n",
        "\n"
      ],
      "metadata": {
        "id": "ukTsDic533Fy"
      }
    },
    {
      "cell_type": "code",
      "source": [
        "SEQ_LENGTH = 40\n",
        "STEP_SIZE = 3\n",
        "\n",
        "sentences = []\n",
        "next_char = []\n",
        "\n",
        "for i in range(0, len(text) - SEQ_LENGTH, STEP_SIZE):\n",
        "    sentences.append(text[i: i + SEQ_LENGTH])\n",
        "    next_char.append(text[i + SEQ_LENGTH])"
      ],
      "metadata": {
        "id": "1szTPjA045Ds"
      },
      "execution_count": 9,
      "outputs": []
    },
    {
      "cell_type": "markdown",
      "source": [],
      "metadata": {
        "id": "2HUl9osoQnfo"
      }
    },
    {
      "cell_type": "code",
      "source": [
        "# prompt: c\n",
        "\n",
        "import numpy as np\n",
        "# vectorization of data\n",
        "x = np.zeros((len(sentences), SEQ_LENGTH, len(characters)), dtype=np.bool)\n",
        "y = np.zeros((len(sentences), len(characters)), dtype=np.bool)\n",
        "\n",
        "for i, sentence in enumerate(sentences):\n",
        "    for t, char in enumerate(sentence):\n",
        "        x[i, t, char_to_index[char]] = 1\n",
        "    y[i, char_to_index[next_char[i]]] = 1\n",
        "#\n",
        "#\n",
        "# > creating model\n",
        "#\n",
        "#\n",
        "model = Sequential()\n",
        "model.add(LSTM(128, input_shape=(SEQ_LENGTH, len(characters))))\n",
        "model.add(Dense(len(characters)))\n",
        "model.add(Activation('softmax'))\n",
        "#\n",
        "#\n",
        "# > training the model\n",
        "#\n",
        "#\n",
        "optimizer = RMSprop(learning_rate=0.01)\n",
        "model.compile(loss='categorical_crossentropy', optimizer=optimizer)\n",
        "#\n",
        "#\n",
        "# > function to sample the next char\n",
        "#\n",
        "#\n",
        "def sample(preds, temperature=1.0):\n",
        "    preds = np.asarray(preds).astype('float64')\n",
        "    preds = np.log(preds) / temperature\n",
        "    exp_preds = np.exp(preds)\n",
        "    preds = exp_preds / np.sum(exp_preds)\n",
        "    probas = np.random.multinomial(1, preds, 1)\n",
        "    return np.argmax(probas)\n",
        "#\n",
        "#\n",
        "# > training the model\n",
        "#\n",
        "#\n",
        "model.fit(x, y, batch_size=128, epochs=1)\n",
        "#\n",
        "#\n",
        "# > generating text\n",
        "#\n",
        "#\n",
        "def generate_text(length, temperature):\n",
        "    start_index = random.randint(0, len(text) - SEQ_LENGTH - 1)\n",
        "    generated = ''\n",
        "    sentence = text[start_index: start_index + SEQ_LENGTH]\n",
        "    generated += sentence\n",
        "    for i in range(length):\n",
        "        x_pred = np.zeros((1, SEQ_LENGTH, len(characters)))\n",
        "        for t, char in enumerate(sentence):\n",
        "            x_pred[0, t, char_to_index[char]] = 1.\n",
        "        preds = model.predict(x_pred, verbose=0)[0]\n",
        "        next_index = sample(preds, temperature)\n",
        "        next_char = index_to_char[next_index]\n",
        "        generated += next_char\n",
        "        sentence = sentence[1:] + next_char\n",
        "    return generated\n",
        "#\n",
        "#\n",
        "# > generating text\n",
        "#\n",
        "#\n",
        "print(generate_text(500, 0.5))\n"
      ],
      "metadata": {
        "id": "3Qij3irGQeaL"
      },
      "execution_count": null,
      "outputs": []
    }
  ]
}